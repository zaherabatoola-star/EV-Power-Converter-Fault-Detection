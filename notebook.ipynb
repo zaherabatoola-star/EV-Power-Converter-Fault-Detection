# 1. Import libraries
import pandas as pd
import numpy as np
from sklearn.model_selection import train_test_split
from sklearn.ensemble import RandomForestClassifier
from sklearn.metrics import accuracy_score, confusion_matrix

# 2. Load dataset
df = pd.read_csv('/content/power_converter_optimization_dataset_1000.csv')
df.head()

# 3. Preprocess
df = df.dropna()
df = pd.get_dummies(df, columns=['Converter Type'], drop_first=True)

# 4. Split data
X = df.drop('Optimized (0/1)', axis=1)
y = df['Optimized (0/1)']
X_train, X_test, y_train, y_test = train_test_split(X, y, test_size=0.2, random_state=42)

# 5. Train model
model = RandomForestClassifier()
model.fit(X_train, y_train)

# 6. Evaluate
y_pred = model.predict(X_test)
print("Accuracy:", accuracy_score(y_test, y_pred))

# 7. Save model
import joblib
joblib.dump(model, 'ev_fault_detection_model.pkl')
